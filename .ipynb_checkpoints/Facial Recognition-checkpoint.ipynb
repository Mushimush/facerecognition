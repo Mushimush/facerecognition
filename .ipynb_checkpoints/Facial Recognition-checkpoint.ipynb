{
 "cells": [
  {
   "cell_type": "markdown",
   "id": "4c07066e",
   "metadata": {},
   "source": [
    "# Requirements"
   ]
  },
  {
   "cell_type": "code",
   "execution_count": 1,
   "id": "d609faf1",
   "metadata": {},
   "outputs": [],
   "source": [
    "import matplotlib.pyplot as plt\n",
    "from sklearn.decomposition import PCA\n",
    "import numpy as np\n",
    "import os\n",
    "import cv2\n",
    "import glob\n",
    "face_cascade = cv2.CascadeClassifier(\"haarcascade_frontalface_default.xml\")\n"
   ]
  },
  {
   "cell_type": "markdown",
   "id": "b41c06c5",
   "metadata": {},
   "source": [
    "# Load the images"
   ]
  },
  {
   "cell_type": "code",
   "execution_count": 3,
   "id": "1af7dd5c",
   "metadata": {},
   "outputs": [
    {
     "name": "stdout",
     "output_type": "stream",
     "text": [
      "(120000,)\n",
      "(120000,)\n",
      "(120000,)\n",
      "(120000,)\n",
      "(120000,)\n",
      "(120000,)\n",
      "(120000,)\n",
      "(120000,)\n",
      "(120000,)\n",
      "(120000,)\n",
      "(120000,)\n",
      "(120000,)\n",
      "(120000,)\n",
      "(120000,)\n",
      "(120000,)\n",
      "(120000,)\n",
      "(120000,)\n",
      "(120000,)\n",
      "(120000,)\n",
      "(120000,)\n",
      "(120000,)\n",
      "(120000,)\n",
      "(120000,)\n",
      "(120000,)\n",
      "(120000,)\n",
      "(120000,)\n",
      "(120000,)\n",
      "(120000,)\n",
      "(120000,)\n",
      "(120000,)\n",
      "(120000,)\n"
     ]
    }
   ],
   "source": [
    "# Define the path to the directory containing the images\n",
    "path = \"/home/stanley/Desktop/FR\"\n",
    "\n",
    "labels = ['Stanley','Madonna']\n",
    "\n",
    "\n",
    "# Load the images and labels into arrays\n",
    "images = []\n",
    "image_labels = []\n",
    "for label in labels:\n",
    "    image_paths = [os.path.join(path, label, f) for f in os.listdir(os.path.join(path, label)) if f.endswith('.jpg')]\n",
    "    for image_path in image_paths:\n",
    "        img = cv2.imread(image_path)\n",
    "        img = cv2.resize(img, (200, 200)) # Resize the image to 200 x 200 pixels\n",
    "        print(img.flatten().shape)\n",
    "        images.append(img)\n",
    "        image_labels.append(label)\n",
    "\n",
    "# Convert the image and label arrays to NumPy arrays\n",
    "images = np.array(images)\n",
    "image_labels = np.array(image_labels)"
   ]
  },
  {
   "cell_type": "markdown",
   "id": "bc9b8612",
   "metadata": {},
   "source": [
    "# Normalize and make it One Dimension"
   ]
  },
  {
   "cell_type": "code",
   "execution_count": 3,
   "id": "c0774bd1",
   "metadata": {},
   "outputs": [
    {
     "name": "stdout",
     "output_type": "stream",
     "text": [
      "(31, 120000)\n"
     ]
    }
   ],
   "source": [
    "#Normalize the image array, the image vector values will be between 0 and 1. Convert to numpy array to perform mathematical expressions.\n",
    "\n",
    "#convert the image into 1D array, \n",
    "image_vectors = np.array([img.flatten() for img in images])\n",
    "print(image_vectors.shape)\n",
    "\n",
    "mean = np.mean(image_vectors, axis=0)\n",
    "std = np.std(image_vectors, axis=0)\n",
    "\n",
    "# normalize the image vectors by subtracting the mean and dividing by the standard deviation\n",
    "image_vectors_norm = (image_vectors - mean) / std\n",
    "\n",
    "# image_vectors.shape"
   ]
  },
  {
   "cell_type": "markdown",
   "id": "3c116f75",
   "metadata": {},
   "source": [
    "# Perform PCA"
   ]
  },
  {
   "cell_type": "code",
   "execution_count": 4,
   "id": "1889892a",
   "metadata": {},
   "outputs": [
    {
     "name": "stdout",
     "output_type": "stream",
     "text": [
      "(31, 31)\n"
     ]
    },
    {
     "data": {
      "image/png": "[encoded data removed]",
      "text/plain": [
       "<Figure size 640x480 with 1 Axes>"
      ]
     },
     "metadata": {},
     "output_type": "display_data"
    }
   ],
   "source": [
    "# create a PCA object\n",
    "pca = PCA(n_components=31)  # set the number of components you want to keep\n",
    "\n",
    "# fit the PCA model to the image vectors\n",
    "pca.fit(image_vectors)\n",
    "\n",
    "# transform the image vectors to their low-dimensional representation\n",
    "image_vectors_transformed = pca.transform(image_vectors)\n",
    "print(image_vectors_transformed.shape)\n",
    "# plot the transformed data with the first two principal components as the x and y axes\n",
    "plt.scatter(image_vectors_transformed[:, 0], image_vectors_transformed[:, 1])\n",
    "\n",
    "# plot the first principal component as a line passing through the scatter plot\n",
    "x = np.linspace(-5, 5)\n",
    "y = x * pca.components_[0, 1] / pca.components_[0, 0]\n",
    "plt.plot(x, y, color='r')\n",
    "\n",
    "plt.show()"
   ]
  },
  {
   "cell_type": "markdown",
   "id": "1d4f1dfe",
   "metadata": {},
   "source": [
    "# KNN"
   ]
  },
  {
   "cell_type": "code",
   "execution_count": 5,
   "id": "2bc4ab9e",
   "metadata": {
    "scrolled": true
   },
   "outputs": [
    {
     "name": "stdout",
     "output_type": "stream",
     "text": [
      "Accuracy: 0.7142857142857143\n"
     ]
    }
   ],
   "source": [
    "from sklearn.neighbors import KNeighborsClassifier\n",
    "from sklearn.model_selection import train_test_split\n",
    "\n",
    "# Split the data into training and testing sets\n",
    "X_train, X_test, y_train, y_test = train_test_split(image_vectors_transformed, image_labels, test_size=0.2, random_state=42)\n",
    "\n",
    "# Create a kNN classifier with k=5\n",
    "knn = KNeighborsClassifier(n_neighbors=5)\n",
    "\n",
    "# Train the classifier on the training data\n",
    "knn.fit(X_train, y_train)\n",
    "\n",
    "# Predict the labels for the test data\n",
    "y_pred = knn.predict(X_test)\n",
    "\n",
    "# Print the accuracy of the classifier\n",
    "print(\"Accuracy:\", np.mean(y_pred == y_test))\n"
   ]
  },
  {
   "cell_type": "markdown",
   "id": "1bd9b0a0",
   "metadata": {},
   "source": [
    "# Viola Jones"
   ]
  },
  {
   "cell_type": "code",
   "execution_count": 6,
   "id": "f0518b1c",
   "metadata": {},
   "outputs": [
    {
     "name": "stdout",
     "output_type": "stream",
     "text": [
      "(1, 40000)\n"
     ]
    },
    {
     "ename": "ValueError",
     "evalue": "X has 40000 features, but PCA is expecting 120000 features as input.",
     "output_type": "error",
     "traceback": [
      "\u001b[0;31m---------------------------------------------------------------------------\u001b[0m",
      "\u001b[0;31mValueError\u001b[0m                                Traceback (most recent call last)",
      "Cell \u001b[0;32mIn [6], line 26\u001b[0m\n\u001b[1;32m     24\u001b[0m \u001b[38;5;28mprint\u001b[39m(face_vector\u001b[38;5;241m.\u001b[39mshape)\n\u001b[1;32m     25\u001b[0m exit()\n\u001b[0;32m---> 26\u001b[0m face_vector_transformed \u001b[38;5;241m=\u001b[39m \u001b[43mpca\u001b[49m\u001b[38;5;241;43m.\u001b[39;49m\u001b[43mtransform\u001b[49m\u001b[43m(\u001b[49m\u001b[43mface_vector\u001b[49m\u001b[43m)\u001b[49m\n\u001b[1;32m     28\u001b[0m \u001b[38;5;66;03m# Use the kNN classifier to predict the identity of the person based on the feature vector\u001b[39;00m\n\u001b[1;32m     29\u001b[0m predicted_label \u001b[38;5;241m=\u001b[39m knn\u001b[38;5;241m.\u001b[39mpredict(face_vector_transformed)[\u001b[38;5;241m0\u001b[39m]\n",
      "File \u001b[0;32m~/.local/lib/python3.10/site-packages/sklearn/utils/_set_output.py:142\u001b[0m, in \u001b[0;36m_wrap_method_output.<locals>.wrapped\u001b[0;34m(self, X, *args, **kwargs)\u001b[0m\n\u001b[1;32m    140\u001b[0m \u001b[38;5;129m@wraps\u001b[39m(f)\n\u001b[1;32m    141\u001b[0m \u001b[38;5;28;01mdef\u001b[39;00m \u001b[38;5;21mwrapped\u001b[39m(\u001b[38;5;28mself\u001b[39m, X, \u001b[38;5;241m*\u001b[39margs, \u001b[38;5;241m*\u001b[39m\u001b[38;5;241m*\u001b[39mkwargs):\n\u001b[0;32m--> 142\u001b[0m     data_to_wrap \u001b[38;5;241m=\u001b[39m \u001b[43mf\u001b[49m\u001b[43m(\u001b[49m\u001b[38;5;28;43mself\u001b[39;49m\u001b[43m,\u001b[49m\u001b[43m \u001b[49m\u001b[43mX\u001b[49m\u001b[43m,\u001b[49m\u001b[43m \u001b[49m\u001b[38;5;241;43m*\u001b[39;49m\u001b[43margs\u001b[49m\u001b[43m,\u001b[49m\u001b[43m \u001b[49m\u001b[38;5;241;43m*\u001b[39;49m\u001b[38;5;241;43m*\u001b[39;49m\u001b[43mkwargs\u001b[49m\u001b[43m)\u001b[49m\n\u001b[1;32m    143\u001b[0m     \u001b[38;5;28;01mif\u001b[39;00m \u001b[38;5;28misinstance\u001b[39m(data_to_wrap, \u001b[38;5;28mtuple\u001b[39m):\n\u001b[1;32m    144\u001b[0m         \u001b[38;5;66;03m# only wrap the first output for cross decomposition\u001b[39;00m\n\u001b[1;32m    145\u001b[0m         \u001b[38;5;28;01mreturn\u001b[39;00m (\n\u001b[1;32m    146\u001b[0m             _wrap_data_with_container(method, data_to_wrap[\u001b[38;5;241m0\u001b[39m], X, \u001b[38;5;28mself\u001b[39m),\n\u001b[1;32m    147\u001b[0m             \u001b[38;5;241m*\u001b[39mdata_to_wrap[\u001b[38;5;241m1\u001b[39m:],\n\u001b[1;32m    148\u001b[0m         )\n",
      "File \u001b[0;32m~/.local/lib/python3.10/site-packages/sklearn/decomposition/_base.py:120\u001b[0m, in \u001b[0;36m_BasePCA.transform\u001b[0;34m(self, X)\u001b[0m\n\u001b[1;32m    101\u001b[0m \u001b[38;5;124;03m\"\"\"Apply dimensionality reduction to X.\u001b[39;00m\n\u001b[1;32m    102\u001b[0m \n\u001b[1;32m    103\u001b[0m \u001b[38;5;124;03mX is projected on the first principal components previously extracted\u001b[39;00m\n\u001b[0;32m   (...)\u001b[0m\n\u001b[1;32m    116\u001b[0m \u001b[38;5;124;03m    is the number of samples and `n_components` is the number of the components.\u001b[39;00m\n\u001b[1;32m    117\u001b[0m \u001b[38;5;124;03m\"\"\"\u001b[39;00m\n\u001b[1;32m    118\u001b[0m check_is_fitted(\u001b[38;5;28mself\u001b[39m)\n\u001b[0;32m--> 120\u001b[0m X \u001b[38;5;241m=\u001b[39m \u001b[38;5;28;43mself\u001b[39;49m\u001b[38;5;241;43m.\u001b[39;49m\u001b[43m_validate_data\u001b[49m\u001b[43m(\u001b[49m\u001b[43mX\u001b[49m\u001b[43m,\u001b[49m\u001b[43m \u001b[49m\u001b[43mdtype\u001b[49m\u001b[38;5;241;43m=\u001b[39;49m\u001b[43m[\u001b[49m\u001b[43mnp\u001b[49m\u001b[38;5;241;43m.\u001b[39;49m\u001b[43mfloat64\u001b[49m\u001b[43m,\u001b[49m\u001b[43m \u001b[49m\u001b[43mnp\u001b[49m\u001b[38;5;241;43m.\u001b[39;49m\u001b[43mfloat32\u001b[49m\u001b[43m]\u001b[49m\u001b[43m,\u001b[49m\u001b[43m \u001b[49m\u001b[43mreset\u001b[49m\u001b[38;5;241;43m=\u001b[39;49m\u001b[38;5;28;43;01mFalse\u001b[39;49;00m\u001b[43m)\u001b[49m\n\u001b[1;32m    121\u001b[0m \u001b[38;5;28;01mif\u001b[39;00m \u001b[38;5;28mself\u001b[39m\u001b[38;5;241m.\u001b[39mmean_ \u001b[38;5;129;01mis\u001b[39;00m \u001b[38;5;129;01mnot\u001b[39;00m \u001b[38;5;28;01mNone\u001b[39;00m:\n\u001b[1;32m    122\u001b[0m     X \u001b[38;5;241m=\u001b[39m X \u001b[38;5;241m-\u001b[39m \u001b[38;5;28mself\u001b[39m\u001b[38;5;241m.\u001b[39mmean_\n",
      "File \u001b[0;32m~/.local/lib/python3.10/site-packages/sklearn/base.py:569\u001b[0m, in \u001b[0;36mBaseEstimator._validate_data\u001b[0;34m(self, X, y, reset, validate_separately, **check_params)\u001b[0m\n\u001b[1;32m    566\u001b[0m     out \u001b[38;5;241m=\u001b[39m X, y\n\u001b[1;32m    568\u001b[0m \u001b[38;5;28;01mif\u001b[39;00m \u001b[38;5;129;01mnot\u001b[39;00m no_val_X \u001b[38;5;129;01mand\u001b[39;00m check_params\u001b[38;5;241m.\u001b[39mget(\u001b[38;5;124m\"\u001b[39m\u001b[38;5;124mensure_2d\u001b[39m\u001b[38;5;124m\"\u001b[39m, \u001b[38;5;28;01mTrue\u001b[39;00m):\n\u001b[0;32m--> 569\u001b[0m     \u001b[38;5;28;43mself\u001b[39;49m\u001b[38;5;241;43m.\u001b[39;49m\u001b[43m_check_n_features\u001b[49m\u001b[43m(\u001b[49m\u001b[43mX\u001b[49m\u001b[43m,\u001b[49m\u001b[43m \u001b[49m\u001b[43mreset\u001b[49m\u001b[38;5;241;43m=\u001b[39;49m\u001b[43mreset\u001b[49m\u001b[43m)\u001b[49m\n\u001b[1;32m    571\u001b[0m \u001b[38;5;28;01mreturn\u001b[39;00m out\n",
      "File \u001b[0;32m~/.local/lib/python3.10/site-packages/sklearn/base.py:370\u001b[0m, in \u001b[0;36mBaseEstimator._check_n_features\u001b[0;34m(self, X, reset)\u001b[0m\n\u001b[1;32m    367\u001b[0m     \u001b[38;5;28;01mreturn\u001b[39;00m\n\u001b[1;32m    369\u001b[0m \u001b[38;5;28;01mif\u001b[39;00m n_features \u001b[38;5;241m!=\u001b[39m \u001b[38;5;28mself\u001b[39m\u001b[38;5;241m.\u001b[39mn_features_in_:\n\u001b[0;32m--> 370\u001b[0m     \u001b[38;5;28;01mraise\u001b[39;00m \u001b[38;5;167;01mValueError\u001b[39;00m(\n\u001b[1;32m    371\u001b[0m         \u001b[38;5;124mf\u001b[39m\u001b[38;5;124m\"\u001b[39m\u001b[38;5;124mX has \u001b[39m\u001b[38;5;132;01m{\u001b[39;00mn_features\u001b[38;5;132;01m}\u001b[39;00m\u001b[38;5;124m features, but \u001b[39m\u001b[38;5;132;01m{\u001b[39;00m\u001b[38;5;28mself\u001b[39m\u001b[38;5;241m.\u001b[39m\u001b[38;5;18m__class__\u001b[39m\u001b[38;5;241m.\u001b[39m\u001b[38;5;18m__name__\u001b[39m\u001b[38;5;132;01m}\u001b[39;00m\u001b[38;5;124m \u001b[39m\u001b[38;5;124m\"\u001b[39m\n\u001b[1;32m    372\u001b[0m         \u001b[38;5;124mf\u001b[39m\u001b[38;5;124m\"\u001b[39m\u001b[38;5;124mis expecting \u001b[39m\u001b[38;5;132;01m{\u001b[39;00m\u001b[38;5;28mself\u001b[39m\u001b[38;5;241m.\u001b[39mn_features_in_\u001b[38;5;132;01m}\u001b[39;00m\u001b[38;5;124m features as input.\u001b[39m\u001b[38;5;124m\"\u001b[39m\n\u001b[1;32m    373\u001b[0m     )\n",
      "\u001b[0;31mValueError\u001b[0m: X has 40000 features, but PCA is expecting 120000 features as input."
     ]
    }
   ],
   "source": [
    "# Open the default camera\n",
    "cap = cv2.VideoCapture(0)\n",
    "\n",
    "while True:\n",
    "    # Read the next frame from the camera\n",
    "    ret, frame = cap.read()\n",
    "    if not ret:\n",
    "        break\n",
    "\n",
    "    # Convert the frame to grayscale\n",
    "    gray = cv2.cvtColor(frame, cv2.COLOR_BGR2GRAY)\n",
    "\n",
    "    # Detect faces in the frame using the Haar cascade classifier\n",
    "    faces = face_cascade.detectMultiScale(gray, 1.3, 5)\n",
    "\n",
    "    # For each detected face, recognize the person and draw a rectangle around the face\n",
    "    for (x, y, w, h) in faces:\n",
    "        # Crop the detected face from the frame and resize it to the same size as the face images used during training\n",
    "        face = gray[y:y+h, x:x+w]\n",
    "        face_resized = cv2.resize(face, (200, 200))\n",
    "\n",
    "        # Apply the same PCA transformation to the cropped and resized face to get the feature vector for that face\n",
    "        face_vector = face_resized.flatten().reshape(1, -1)\n",
    "        print(face_vector.shape)\n",
    "        exit()\n",
    "        face_vector_transformed = pca.transform(face_vector)\n",
    "\n",
    "        # Use the kNN classifier to predict the identity of the person based on the feature vector\n",
    "        predicted_label = knn.predict(face_vector_transformed)[0]\n",
    "\n",
    "        # Draw a rectangle around the detected face and display the predicted label on the rectangle\n",
    "        cv2.rectangle(frame, (x, y), (x+w, y+h), (0, 255, 0), 2)\n",
    "        cv2.putText(frame, predicted_label, (x, y-10), cv2.FONT_HERSHEY_SIMPLEX, 0.9, (0, 255, 0), 2)\n",
    "\n",
    "    # Display the frame\n",
    "    cv2.imshow(\"Recognition\", frame)\n",
    "    if cv2.waitKey(1) == ord('q'):\n",
    "        break\n",
    "\n",
    "cap.release()\n",
    "cv2.destroyAllWindows()"
   ]
  },
  {
   "cell_type": "code",
   "execution_count": null,
   "id": "8978aeee",
   "metadata": {},
   "outputs": [],
   "source": []
  }
 ],
 "metadata": {
  "kernelspec": {
   "display_name": "Python 3 (ipykernel)",
   "language": "python",
   "name": "python3"
  },
  "language_info": {
   "codemirror_mode": {
    "name": "ipython",
    "version": 3
   },
   "file_extension": ".py",
   "mimetype": "text/x-python",
   "name": "python",
   "nbconvert_exporter": "python",
   "pygments_lexer": "ipython3",
   "version": "3.10.6"
  }
 },
 "nbformat": 4,
 "nbformat_minor": 5
}
